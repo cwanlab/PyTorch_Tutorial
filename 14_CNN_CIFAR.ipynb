{
 "cells": [
  {
   "cell_type": "code",
   "execution_count": 1,
   "metadata": {},
   "outputs": [],
   "source": [
    "# 1) Design model (input size, output size, forward pass)\n",
    "# 2) Construct loss and optimizer\n",
    "# 3) Training loop\n",
    "#    - forward pass: compute prediction and loss\n",
    "#    - backward pass: gradients\n",
    "#    - update weights\n",
    "\n",
    "\n",
    "# SIFAR-10\n",
    "# DataLoader, Transformation\n",
    "# Multilayer Neural Net, activation function\n",
    "# Loss and Optimizer\n",
    "# Training Loop (batch training)\n",
    "# Model evaluation\n",
    "# GPU support\n",
    "\n",
    "# ENV: Python 3.9.12"
   ]
  },
  {
   "cell_type": "code",
   "execution_count": 2,
   "metadata": {},
   "outputs": [],
   "source": [
    "import torch\n",
    "import torch.nn as nn\n",
    "import torch.nn.functional as fnc\n",
    "import torchvision # some builtin datasets\n",
    "import torchvision.transforms as transforms\n",
    "\n",
    "from torch.utils.data import Dataset, DataLoader\n",
    "\n",
    "import math\n",
    "import numpy as np\n",
    "import matplotlib.pyplot as plt"
   ]
  },
  {
   "cell_type": "code",
   "execution_count": 31,
   "metadata": {},
   "outputs": [
    {
     "name": "stdout",
     "output_type": "stream",
     "text": [
      "device: cuda\n"
     ]
    }
   ],
   "source": [
    "# Settings\n",
    "\n",
    "# device config\n",
    "device = torch.device(\"cuda\" if torch.cuda.is_available() else \"cpu\")\n",
    "print(\"device:\", device)\n",
    "\n",
    "# hyper parameters\n",
    "num_epoches = 20\n",
    "batch_size = 10\n",
    "learning_rate = 0.001"
   ]
  },
  {
   "cell_type": "code",
   "execution_count": 32,
   "metadata": {},
   "outputs": [
    {
     "name": "stdout",
     "output_type": "stream",
     "text": [
      "Files already downloaded and verified\n"
     ]
    }
   ],
   "source": [
    "# CIFAR10\n",
    "transform = transforms.Compose(\n",
    "    [transforms.ToTensor(),\n",
    "    transforms.Normalize((0.5, 0.5, 0.5),(0.5, 0.5, 0.5))])\n",
    "train_data = torchvision.datasets.CIFAR10(\n",
    "    root=\"./data\", \n",
    "    train=True,\n",
    "    transform=transform,\n",
    "    download=True)\n",
    "\n",
    "test_data = torchvision.datasets.CIFAR10(\n",
    "    root=\"./data\", \n",
    "    train=False,\n",
    "    transform=transform)"
   ]
  },
  {
   "cell_type": "code",
   "execution_count": 33,
   "metadata": {},
   "outputs": [
    {
     "name": "stderr",
     "output_type": "stream",
     "text": [
      "Clipping input data to the valid range for imshow with RGB data ([0..1] for floats or [0..255] for integers).\n",
      "Clipping input data to the valid range for imshow with RGB data ([0..1] for floats or [0..255] for integers).\n",
      "Clipping input data to the valid range for imshow with RGB data ([0..1] for floats or [0..255] for integers).\n",
      "Clipping input data to the valid range for imshow with RGB data ([0..1] for floats or [0..255] for integers).\n",
      "Clipping input data to the valid range for imshow with RGB data ([0..1] for floats or [0..255] for integers).\n",
      "Clipping input data to the valid range for imshow with RGB data ([0..1] for floats or [0..255] for integers).\n"
     ]
    },
    {
     "name": "stdout",
     "output_type": "stream",
     "text": [
      "torch.Size([10, 3, 32, 32]) torch.Size([10])\n",
      "torch.Size([10, 3, 32, 32]) torch.Size([10])\n"
     ]
    },
    {
     "data": {
      "image/png": "[encoded data removed]",
      "text/plain": [
       "<Figure size 432x288 with 6 Axes>"
      ]
     },
     "metadata": {
      "needs_background": "light"
     },
     "output_type": "display_data"
    }
   ],
   "source": [
    "train_loader = torch.utils.data.DataLoader(\n",
    "    dataset=train_data, \n",
    "    batch_size=batch_size,\n",
    "    shuffle=True)\n",
    "\n",
    "test_loader = torch.utils.data.DataLoader(\n",
    "    dataset=test_data, \n",
    "    batch_size=batch_size,\n",
    "    shuffle=False)\n",
    "\n",
    "examples = iter(train_loader)\n",
    "samples, labels = examples.next()\n",
    "print(samples.shape, labels.shape)\n",
    "\n",
    "examples = iter(test_loader)\n",
    "samples, labels = examples.next()\n",
    "print(samples.shape, labels.shape)\n",
    "\n",
    "for i in range(6):\n",
    "    plt.subplot(2, 3, i+1)\n",
    "    plt.imshow(samples[i].permute(1, 2, 0)) #change from C, H, W to H, W, C.\n",
    "    plt.axis(\"off\")\n",
    "plt.show()"
   ]
  },
  {
   "cell_type": "code",
   "execution_count": 39,
   "metadata": {},
   "outputs": [
    {
     "name": "stdout",
     "output_type": "stream",
     "text": [
      "torch.Size([10, 3, 32, 32])\n",
      "torch.Size([10, 6, 28, 28])\n",
      "after pool1: torch.Size([10, 6, 14, 14])\n",
      "after conv2: torch.Size([10, 16, 10, 10])\n",
      "after pool2: torch.Size([10, 16, 5, 5])\n"
     ]
    }
   ],
   "source": [
    "images, labels = examples.next()\n",
    "conv1 = nn.Conv2d(3, 6, 5) # C, output C, filter 5 x 5, stride = 1 by default\n",
    "pool1 = nn.MaxPool2d(2, 2) # kernel_size, stride\n",
    "conv2 = nn.Conv2d(6, 16, 5)\n",
    "pool2 = nn.MaxPool2d(2, 2) # kernel_size, stride\n",
    "\n",
    "print(images.shape)\n",
    "x = conv1(images)\n",
    "print(x.shape)\n",
    "x = pool1(x)\n",
    "print(\"after pool1:\", x.shape)\n",
    "\n",
    "x = conv2(x)\n",
    "print(\"after conv2:\", x.shape)\n",
    "x = pool2(x)\n",
    "print(\"after pool2:\", x.shape)\n"
   ]
  },
  {
   "cell_type": "code",
   "execution_count": 34,
   "metadata": {},
   "outputs": [],
   "source": [
    "classes = ('plane', 'car', 'bird', 'cat', 'deer',\n",
    "'dog', 'frog', 'horse', 'ship', 'truck')"
   ]
  },
  {
   "cell_type": "code",
   "execution_count": 41,
   "metadata": {},
   "outputs": [],
   "source": [
    "# Model\n",
    "class ConvNet(nn.Module):\n",
    "    def __init__(self):\n",
    "        super(ConvNet, self).__init__()\n",
    "        self.conv1 = nn.Conv2d(3, 6, 5) # C, output C, filter 5 x 5, stride = 1 by default\n",
    "        self.pool1 = nn.MaxPool2d(2, 2) # kernel_size, stride\n",
    "        self.conv2 = nn.Conv2d(6, 16, 5)\n",
    "        self.pool2 = nn.MaxPool2d(2, 2) # kernel_size, stride\n",
    "        \n",
    "        self.fc1 = nn.Linear(16*5*5, 120)\n",
    "        self.fc2 = nn.Linear(120, 60)\n",
    "        self.fc3 = nn.Linear(60, 10)\n",
    "\n",
    "    def forward(self, x):\n",
    "        x = self.pool1(fnc.relu(self.conv1(x)))\n",
    "        x = self.pool2(fnc.relu(self.conv2(x)))\n",
    "\n",
    "        x = x.view(-1, 16*5*5)\n",
    "        x = fnc.relu(self.fc1(x))\n",
    "        x = fnc.relu(self.fc2(x))\n",
    "        x = self.fc3(x)\n",
    "\n",
    "        return x\n",
    "\n",
    "model = ConvNet().to(device)\n",
    "criterion = nn.CrossEntropyLoss()\n",
    "optimizer = torch.optim.SGD(model.parameters(), lr=learning_rate)"
   ]
  },
  {
   "cell_type": "code",
   "execution_count": 42,
   "metadata": {},
   "outputs": [
    {
     "name": "stdout",
     "output_type": "stream",
     "text": [
      "epoch 1 / 20, step 1000 / 5000, loss =  2.3080\n",
      "epoch 1 / 20, step 2000 / 5000, loss =  2.3027\n",
      "epoch 1 / 20, step 3000 / 5000, loss =  2.2823\n",
      "epoch 1 / 20, step 4000 / 5000, loss =  2.3052\n",
      "epoch 1 / 20, step 5000 / 5000, loss =  2.2792\n",
      "epoch 2 / 20, step 1000 / 5000, loss =  2.3168\n",
      "epoch 2 / 20, step 2000 / 5000, loss =  2.2859\n",
      "epoch 2 / 20, step 3000 / 5000, loss =  2.2915\n",
      "epoch 2 / 20, step 4000 / 5000, loss =  2.2962\n",
      "epoch 2 / 20, step 5000 / 5000, loss =  2.2316\n",
      "epoch 3 / 20, step 1000 / 5000, loss =  2.1812\n",
      "epoch 3 / 20, step 2000 / 5000, loss =  2.2331\n",
      "epoch 3 / 20, step 3000 / 5000, loss =  1.9081\n",
      "epoch 3 / 20, step 4000 / 5000, loss =  1.9105\n",
      "epoch 3 / 20, step 5000 / 5000, loss =  2.3097\n",
      "epoch 4 / 20, step 1000 / 5000, loss =  1.8698\n",
      "epoch 4 / 20, step 2000 / 5000, loss =  1.9246\n",
      "epoch 4 / 20, step 3000 / 5000, loss =  1.8202\n",
      "epoch 4 / 20, step 4000 / 5000, loss =  1.8811\n",
      "epoch 4 / 20, step 5000 / 5000, loss =  1.9587\n",
      "epoch 5 / 20, step 1000 / 5000, loss =  2.0713\n",
      "epoch 5 / 20, step 2000 / 5000, loss =  1.9383\n",
      "epoch 5 / 20, step 3000 / 5000, loss =  1.4836\n",
      "epoch 5 / 20, step 4000 / 5000, loss =  1.9958\n",
      "epoch 5 / 20, step 5000 / 5000, loss =  1.5343\n",
      "epoch 6 / 20, step 1000 / 5000, loss =  1.5425\n",
      "epoch 6 / 20, step 2000 / 5000, loss =  1.6030\n",
      "epoch 6 / 20, step 3000 / 5000, loss =  1.3796\n",
      "epoch 6 / 20, step 4000 / 5000, loss =  1.5002\n",
      "epoch 6 / 20, step 5000 / 5000, loss =  1.6507\n",
      "epoch 7 / 20, step 1000 / 5000, loss =  1.5948\n",
      "epoch 7 / 20, step 2000 / 5000, loss =  1.4269\n",
      "epoch 7 / 20, step 3000 / 5000, loss =  1.4557\n",
      "epoch 7 / 20, step 4000 / 5000, loss =  1.5591\n",
      "epoch 7 / 20, step 5000 / 5000, loss =  1.3788\n",
      "epoch 8 / 20, step 1000 / 5000, loss =  1.5335\n",
      "epoch 8 / 20, step 2000 / 5000, loss =  1.2525\n",
      "epoch 8 / 20, step 3000 / 5000, loss =  2.2880\n",
      "epoch 8 / 20, step 4000 / 5000, loss =  2.1687\n",
      "epoch 8 / 20, step 5000 / 5000, loss =  1.4722\n",
      "epoch 9 / 20, step 1000 / 5000, loss =  2.0177\n",
      "epoch 9 / 20, step 2000 / 5000, loss =  1.3931\n",
      "epoch 9 / 20, step 3000 / 5000, loss =  1.5623\n",
      "epoch 9 / 20, step 4000 / 5000, loss =  1.8936\n",
      "epoch 9 / 20, step 5000 / 5000, loss =  1.3699\n",
      "epoch 10 / 20, step 1000 / 5000, loss =  1.0801\n",
      "epoch 10 / 20, step 2000 / 5000, loss =  2.2302\n",
      "epoch 10 / 20, step 3000 / 5000, loss =  2.2870\n",
      "epoch 10 / 20, step 4000 / 5000, loss =  1.1495\n",
      "epoch 10 / 20, step 5000 / 5000, loss =  2.2173\n",
      "epoch 11 / 20, step 1000 / 5000, loss =  2.3151\n",
      "epoch 11 / 20, step 2000 / 5000, loss =  1.3831\n",
      "epoch 11 / 20, step 3000 / 5000, loss =  2.1368\n",
      "epoch 11 / 20, step 4000 / 5000, loss =  1.1139\n",
      "epoch 11 / 20, step 5000 / 5000, loss =  1.2475\n",
      "epoch 12 / 20, step 1000 / 5000, loss =  1.1661\n",
      "epoch 12 / 20, step 2000 / 5000, loss =  1.3642\n",
      "epoch 12 / 20, step 3000 / 5000, loss =  1.6997\n",
      "epoch 12 / 20, step 4000 / 5000, loss =  1.1810\n",
      "epoch 12 / 20, step 5000 / 5000, loss =  1.4013\n",
      "epoch 13 / 20, step 1000 / 5000, loss =  1.6269\n",
      "epoch 13 / 20, step 2000 / 5000, loss =  1.0329\n",
      "epoch 13 / 20, step 3000 / 5000, loss =  1.3457\n",
      "epoch 13 / 20, step 4000 / 5000, loss =  1.9158\n",
      "epoch 13 / 20, step 5000 / 5000, loss =  0.8626\n",
      "epoch 14 / 20, step 1000 / 5000, loss =  0.7816\n",
      "epoch 14 / 20, step 2000 / 5000, loss =  1.5859\n",
      "epoch 14 / 20, step 3000 / 5000, loss =  0.9303\n",
      "epoch 14 / 20, step 4000 / 5000, loss =  1.5602\n",
      "epoch 14 / 20, step 5000 / 5000, loss =  1.4400\n",
      "epoch 15 / 20, step 1000 / 5000, loss =  1.0829\n",
      "epoch 15 / 20, step 2000 / 5000, loss =  0.6712\n",
      "epoch 15 / 20, step 3000 / 5000, loss =  1.2457\n",
      "epoch 15 / 20, step 4000 / 5000, loss =  0.8314\n",
      "epoch 15 / 20, step 5000 / 5000, loss =  1.8607\n",
      "epoch 16 / 20, step 1000 / 5000, loss =  2.3799\n",
      "epoch 16 / 20, step 2000 / 5000, loss =  1.2386\n",
      "epoch 16 / 20, step 3000 / 5000, loss =  1.4211\n",
      "epoch 16 / 20, step 4000 / 5000, loss =  0.6989\n",
      "epoch 16 / 20, step 5000 / 5000, loss =  0.8785\n",
      "epoch 17 / 20, step 1000 / 5000, loss =  1.1853\n",
      "epoch 17 / 20, step 2000 / 5000, loss =  0.9437\n",
      "epoch 17 / 20, step 3000 / 5000, loss =  1.2535\n",
      "epoch 17 / 20, step 4000 / 5000, loss =  1.2014\n",
      "epoch 17 / 20, step 5000 / 5000, loss =  1.1393\n",
      "epoch 18 / 20, step 1000 / 5000, loss =  1.5445\n",
      "epoch 18 / 20, step 2000 / 5000, loss =  1.0247\n",
      "epoch 18 / 20, step 3000 / 5000, loss =  1.7169\n",
      "epoch 18 / 20, step 4000 / 5000, loss =  1.0416\n",
      "epoch 18 / 20, step 5000 / 5000, loss =  0.8854\n",
      "epoch 19 / 20, step 1000 / 5000, loss =  0.8012\n",
      "epoch 19 / 20, step 2000 / 5000, loss =  1.3752\n",
      "epoch 19 / 20, step 3000 / 5000, loss =  1.2128\n",
      "epoch 19 / 20, step 4000 / 5000, loss =  1.3450\n",
      "epoch 19 / 20, step 5000 / 5000, loss =  1.0808\n",
      "epoch 20 / 20, step 1000 / 5000, loss =  1.3709\n",
      "epoch 20 / 20, step 2000 / 5000, loss =  0.8540\n",
      "epoch 20 / 20, step 3000 / 5000, loss =  0.8171\n",
      "epoch 20 / 20, step 4000 / 5000, loss =  0.7496\n",
      "epoch 20 / 20, step 5000 / 5000, loss =  1.4796\n",
      "finish training\n"
     ]
    }
   ],
   "source": [
    "# Training loop\n",
    "num_total_steps = len(train_loader)\n",
    "\n",
    "for epoch in range(num_epoches):\n",
    "    for i, (images, labels) in enumerate(train_loader):\n",
    "        images = images.to(device)\n",
    "        labels = labels.to(device)\n",
    "        \n",
    "        # forward\n",
    "        y_pred = model(images)\n",
    "        loss = criterion(y_pred, labels)\n",
    "        \n",
    "        # backward pass\n",
    "        optimizer.zero_grad()\n",
    "        loss.backward()\n",
    "        optimizer.step()\n",
    "\n",
    "        if (i+1) % 1000 == 0:\n",
    "            print(f'epoch {epoch+1} / {num_epoches}, step {i+1} / {num_total_steps}, loss = {loss: 0.4f}')\n",
    "print('finish training')\n"
   ]
  },
  {
   "cell_type": "code",
   "execution_count": 46,
   "metadata": {},
   "outputs": [
    {
     "name": "stdout",
     "output_type": "stream",
     "text": [
      "acc = 56.86%\n",
      "plane:60%\n",
      "car:70%\n",
      "bird:43%\n",
      "cat:30%\n",
      "deer:49%\n",
      "dog:52%\n",
      "frog:54%\n",
      "horse:70%\n",
      "ship:74%\n",
      "truck:65%\n"
     ]
    }
   ],
   "source": [
    "# Evaluation\n",
    "with torch.no_grad():\n",
    "    # overall acc\n",
    "    n_correct = 0\n",
    "    n_samples = 0\n",
    "\n",
    "    # class-level acc\n",
    "    n_class_correct = [0 for i in range(10)]\n",
    "    n_class_samples = [0 for i in range(10)]\n",
    "    \n",
    "    for images, labels in test_loader:\n",
    "        images = images.to(device)\n",
    "        labels = labels.to(device)\n",
    "        y_eva = model(images)\n",
    "        _, y_eva_cls = torch.max(y_eva, 1)\n",
    "        n_samples += labels.shape[0]\n",
    "        n_correct += (y_eva_cls == labels).sum().item()\n",
    "\n",
    "        for idx in range(batch_size):\n",
    "            label = labels[idx]\n",
    "            pred = y_eva_cls[idx]\n",
    "            if (label == pred):\n",
    "                n_class_correct[label] += 1\n",
    "            n_class_samples[label] += 1\n",
    "\n",
    "    acc = 100*n_correct/n_samples\n",
    "    print(f'acc = {acc:.2f}%')\n",
    "    for i in range(10):\n",
    "        acc_i = 100*n_class_correct[i] / n_class_samples[i]\n",
    "        print(f'{classes[i]}:{acc_i:.0f}%')"
   ]
  }
 ],
 "metadata": {
  "language_info": {
   "name": "python"
  }
 },
 "nbformat": 4,
 "nbformat_minor": 2
}
