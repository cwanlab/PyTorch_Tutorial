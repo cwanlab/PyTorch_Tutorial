{
 "cells": [
  {
   "cell_type": "code",
   "execution_count": 3,
   "metadata": {},
   "outputs": [],
   "source": [
    "# 1) Design model (input size, output size, forward pass)\n",
    "# 2) Construct loss and optimizer\n",
    "# 3) Training loop\n",
    "#    - forward pass: compute prediction and loss\n",
    "#    - backward pass: gradients\n",
    "#    - update weights"
   ]
  },
  {
   "cell_type": "code",
   "execution_count": 20,
   "metadata": {},
   "outputs": [],
   "source": [
    "import torch\n",
    "import torch.nn as nn\n",
    "import numpy as np\n",
    "from sklearn import datasets\n",
    "import matplotlib.pyplot as plt"
   ]
  },
  {
   "cell_type": "code",
   "execution_count": 15,
   "metadata": {},
   "outputs": [
    {
     "name": "stdout",
     "output_type": "stream",
     "text": [
      "torch.Size([100, 1])\n",
      "torch.Size([100, 1])\n"
     ]
    }
   ],
   "source": [
    "# 0) Prepare data\n",
    "X_numpy, y_numpy = datasets.make_regression(n_samples=100, n_features=1, noise=20, random_state=1)\n",
    "X = torch.from_numpy(X_numpy.astype(np.float32))\n",
    "y = torch.from_numpy(y_numpy.astype(np.float32))\n",
    "y = y.view(y.shape[0], -1)\n",
    "\n",
    "n_samples, n_features = X.shape\n",
    "\n",
    "print(X.size())\n",
    "print(y.size())"
   ]
  },
  {
   "cell_type": "code",
   "execution_count": 23,
   "metadata": {},
   "outputs": [],
   "source": [
    "# model: y = wx + b\n",
    "input_size = n_features\n",
    "output_size = 1\n",
    "\n",
    "# model = nn.Linear(input_size, output_size)\n",
    "\n",
    "class LinearRegression(nn.Module):\n",
    "    def __init__(self, input_dim, output_dim):\n",
    "        super(LinearRegression, self).__init__()\n",
    "        # define layers\n",
    "        self.lin = nn.Linear(input_dim, output_dim)\n",
    "\n",
    "    def forward(self, x):\n",
    "        return self.lin(x)\n",
    "\n",
    "model = LinearRegression(input_size, output_size)\n",
    "\n",
    "learning_rate = 0.01\n",
    "loss = nn.MSELoss()\n",
    "optimizer = torch.optim.SGD(model.parameters(), lr=learning_rate)\n"
   ]
  },
  {
   "cell_type": "code",
   "execution_count": 24,
   "metadata": {},
   "outputs": [
    {
     "name": "stdout",
     "output_type": "stream",
     "text": [
      "epoch 10: W =  12.572, loss =  4344.82910156\n",
      "epoch 20: W =  22.860, loss =  3240.37719727\n",
      "epoch 30: W =  31.625, loss =  2441.94165039\n",
      "epoch 40: W =  39.095, loss =  1864.08105469\n",
      "epoch 50: W =  45.462, loss =  1445.42114258\n",
      "epoch 60: W =  50.889, loss =  1141.80725098\n",
      "epoch 70: W =  55.518, loss =  921.42852783\n",
      "epoch 80: W =  59.465, loss =  761.33319092\n",
      "epoch 90: W =  62.832, loss =  644.94274902\n",
      "epoch 100: W =  65.704, loss =  560.26666260\n",
      "epoch 110: W =  68.155, loss =  498.62384033\n",
      "epoch 120: W =  70.246, loss =  453.72183228\n",
      "epoch 130: W =  72.032, loss =  420.99710083\n",
      "epoch 140: W =  73.555, loss =  397.13519287\n",
      "epoch 150: W =  74.856, loss =  379.72805786\n",
      "epoch 160: W =  75.967, loss =  367.02416992\n",
      "epoch 170: W =  76.915, loss =  357.74929810\n",
      "epoch 180: W =  77.725, loss =  350.97567749\n",
      "epoch 190: W =  78.417, loss =  346.02725220\n",
      "epoch 200: W =  79.008, loss =  342.41104126\n"
     ]
    }
   ],
   "source": [
    "# Training loop\n",
    "n_iters = 200\n",
    "\n",
    "for epoch in range(n_iters):\n",
    "    # forward pass and loss\n",
    "    y_pred = model(X)\n",
    "    l = loss(y, y_pred)\n",
    "\n",
    "    # backward pass\n",
    "    l.backward()\n",
    "\n",
    "    # update weights\n",
    "    optimizer.step()\n",
    "    # zero gradients\n",
    "    optimizer.zero_grad()\n",
    "\n",
    "    if (epoch+1) % 10 == 0:\n",
    "        [W, b] = model.parameters()\n",
    "        print(f'epoch {epoch+1}: W = {W[0].item(): 0.3f}, loss = {l: 0.8f}')"
   ]
  },
  {
   "cell_type": "code",
   "execution_count": 25,
   "metadata": {},
   "outputs": [
    {
     "data": {
      "image/png": "[encoded data removed]",
      "text/plain": [
       "<Figure size 432x288 with 1 Axes>"
      ]
     },
     "metadata": {
      "needs_background": "light"
     },
     "output_type": "display_data"
    }
   ],
   "source": [
    "predicted = model(X).detach().numpy()\n",
    "plt.plot(X_numpy, y_numpy, \"ro\")\n",
    "plt.plot(X_numpy, predicted, \"b\")\n",
    "plt.show()"
   ]
  }
 ],
 "metadata": {
  "language_info": {
   "name": "python"
  }
 },
 "nbformat": 4,
 "nbformat_minor": 2
}
