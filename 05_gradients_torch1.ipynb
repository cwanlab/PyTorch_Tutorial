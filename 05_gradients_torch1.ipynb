{
 "cells": [
  {
   "cell_type": "code",
   "execution_count": 2,
   "metadata": {},
   "outputs": [],
   "source": [
    "import torch"
   ]
  },
  {
   "cell_type": "code",
   "execution_count": 11,
   "metadata": {},
   "outputs": [],
   "source": [
    "#From manually to pytorch\n",
    "# Prediction: manually --> xxx --> pytorch model\n",
    "# Loss computation: manually--> pytorch loss\n",
    "# Gradient computation: manually--> Autograd\n",
    "# Parameter updates: manually --> pytorch optimizer"
   ]
  },
  {
   "cell_type": "code",
   "execution_count": 17,
   "metadata": {},
   "outputs": [],
   "source": [
    "# f = w * x\n",
    "# f = 2 * x\n",
    "\n",
    "X = torch.tensor([1, 2, 3, 4], dtype=torch.float32)\n",
    "y = torch.tensor([2, 4, 6, 8], dtype=torch.float32)\n",
    "\n",
    "W = torch.tensor(0.0, dtype=torch.float32, requires_grad=True)\n",
    "\n",
    "# Model prediction\n",
    "def forward(X):\n",
    "    return W * X\n",
    "\n",
    "# loss: MSE\n",
    "def loss(y, y_predicted):\n",
    "    return ((y - y_predicted)**2).mean()"
   ]
  },
  {
   "cell_type": "code",
   "execution_count": 18,
   "metadata": {},
   "outputs": [
    {
     "name": "stdout",
     "output_type": "stream",
     "text": [
      "Prediciton before training: f(5) = 0.000\n",
      "epoch1: W =  0.300, loss =  30.00000000\n",
      "epoch11: W =  1.665, loss =  1.16278565\n",
      "epoch21: W =  1.934, loss =  0.04506890\n",
      "epoch31: W =  1.987, loss =  0.00174685\n",
      "epoch41: W =  1.997, loss =  0.00006770\n",
      "epoch51: W =  1.999, loss =  0.00000262\n",
      "epoch61: W =  2.000, loss =  0.00000010\n",
      "epoch71: W =  2.000, loss =  0.00000000\n",
      "epoch81: W =  2.000, loss =  0.00000000\n",
      "epoch91: W =  2.000, loss =  0.00000000\n",
      "Prediciton after training: f(5) = 10.000\n"
     ]
    }
   ],
   "source": [
    "print(f'Prediciton before training: f(5) = {forward(5):.3f}')\n",
    "\n",
    "# Training\n",
    "learning_rate = 0.01\n",
    "n_iters = 100\n",
    "\n",
    "for epoch in range(n_iters):\n",
    "    y_pred = forward(X)\n",
    "\n",
    "    l = loss(y, y_pred)\n",
    "\n",
    "    l.backward() # dl/dw\n",
    "\n",
    "    # update weights\n",
    "    with torch.no_grad():\n",
    "        W -= learning_rate * W.grad\n",
    "    W.grad.zero_()\n",
    "\n",
    "    if epoch % 10 == 0:\n",
    "        print(f'epoch{epoch+1}: W = {W: 0.3f}, loss = {l: 0.8f}')\n",
    "\n",
    "print(f'Prediciton after training: f(5) = {forward(5):.3f}')"
   ]
  },
  {
   "cell_type": "code",
   "execution_count": null,
   "metadata": {},
   "outputs": [
    {
     "name": "stdout",
     "output_type": "stream",
     "text": [
      "Prediciton before training: f(5) = 0.000\n",
      "epoch1: W =  1.200, loss =  30.00000000\n",
      "epoch2: W =  1.680, loss =  4.79999924\n",
      "epoch3: W =  1.872, loss =  0.76800019\n",
      "epoch4: W =  1.949, loss =  0.12288000\n",
      "epoch5: W =  1.980, loss =  0.01966083\n",
      "epoch6: W =  1.992, loss =  0.00314574\n",
      "epoch7: W =  1.997, loss =  0.00050331\n",
      "epoch8: W =  1.999, loss =  0.00008053\n",
      "epoch9: W =  1.999, loss =  0.00001288\n",
      "epoch10: W =  2.000, loss =  0.00000206\n",
      "Prediciton after training: f(5) = 9.999\n"
     ]
    }
   ],
   "source": [
    "print(f'Prediciton before training: f(5) = {forward(5):.3f}')\n",
    "\n",
    "# Training\n",
    "learning_rate = 0.01\n",
    "n_iters = 10\n",
    "\n",
    "for epoch in range(n_iters):\n",
    "    y_pred = forward(X)\n",
    "\n",
    "    l = loss(y, y_pred)\n",
    "\n",
    "    dw = gradient(X, y, y_pred)\n",
    "\n",
    "    W -= learning_rate * dw\n",
    "\n",
    "    if epoch % 1 == 0:\n",
    "        print(f'epoch{epoch+1}: W = {W: 0.3f}, loss = {l: 0.8f}')\n",
    "\n",
    "print(f'Prediciton after training: f(5) = {forward(5):.3f}')"
   ]
  }
 ],
 "metadata": {
  "language_info": {
   "name": "python"
  }
 },
 "nbformat": 4,
 "nbformat_minor": 2
}
