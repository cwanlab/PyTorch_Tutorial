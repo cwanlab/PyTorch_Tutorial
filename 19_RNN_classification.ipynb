{
 "cells": [
  {
   "cell_type": "code",
   "execution_count": 1,
   "metadata": {},
   "outputs": [],
   "source": [
    "import torch\n",
    "import torch.nn as nn\n",
    "import torchvision # some builtin datasets\n",
    "import torchvision.transforms as transforms\n",
    "\n",
    "from torch.utils.data import Dataset, DataLoader\n",
    "\n",
    "import math\n",
    "import matplotlib.pyplot as plt\n",
    "\n",
    "from utils import ALL_LETTERS, N_LETTERS\n",
    "from utils import load_data, letter_to_tensor, line_to_tensor, random_training_example"
   ]
  },
  {
   "cell_type": "code",
   "execution_count": 2,
   "metadata": {},
   "outputs": [
    {
     "name": "stdout",
     "output_type": "stream",
     "text": [
      "device: cuda\n"
     ]
    }
   ],
   "source": [
    "# Settings\n",
    "\n",
    "# device config\n",
    "device = torch.device(\"cuda\" if torch.cuda.is_available() else \"cpu\")\n",
    "print(\"device:\", device)\n",
    "\n",
    "# hyper parameters\n",
    "hidden_size = 128\n",
    "learning_rate = 0.005"
   ]
  },
  {
   "cell_type": "code",
   "execution_count": 12,
   "metadata": {},
   "outputs": [],
   "source": [
    "# Model\n",
    "class RNN(nn.Module):\n",
    "    def __init__(self, input_size, hidden_size, output_size):\n",
    "        super(RNN, self).__init__()\n",
    "\n",
    "        self.hidden_size = hidden_size\n",
    "        self.i2h = nn.Linear(input_size + hidden_size, hidden_size)\n",
    "        self.i2o = nn.Linear(input_size + hidden_size, output_size)\n",
    "        self.softmax = nn.LogSoftmax(dim=1)\n",
    "    \n",
    "    def forward(self, input_tensor, hidden_tensor):\n",
    "        combined = torch.cat((input_tensor, hidden_tensor), 1).to(device)\n",
    "\n",
    "        hidden = self.i2h(combined)\n",
    "        output = self.i2o(combined)\n",
    "        output = self.softmax(output)\n",
    "\n",
    "        return output, hidden\n",
    "    \n",
    "    def init_hidden(self):\n",
    "        return torch.zeros(1, self.hidden_size)"
   ]
  },
  {
   "cell_type": "code",
   "execution_count": 13,
   "metadata": {},
   "outputs": [],
   "source": [
    "def category_from_output(output):\n",
    "    category_idx = torch.argmax(output).item()\n",
    "    return all_categories[category_idx]"
   ]
  },
  {
   "cell_type": "code",
   "execution_count": 14,
   "metadata": {},
   "outputs": [],
   "source": [
    "category_lines, all_categories = load_data()\n",
    "n_categories = len(all_categories)\n",
    "\n",
    "rnn = RNN(input_size=N_LETTERS, hidden_size=hidden_size, output_size=n_categories).to(device)"
   ]
  },
  {
   "cell_type": "code",
   "execution_count": 22,
   "metadata": {},
   "outputs": [
    {
     "name": "stdout",
     "output_type": "stream",
     "text": [
      "torch.Size([1, 18]) torch.Size([1, 128])\n"
     ]
    }
   ],
   "source": [
    "# one step\n",
    "input_tensor = letter_to_tensor(\"A\").to(device)\n",
    "hidden_tensor = rnn.init_hidden().to(device)\n",
    "\n",
    "output, next_hidden = rnn(input_tensor, hidden_tensor)\n",
    "print(output.size(), next_hidden.size())"
   ]
  },
  {
   "cell_type": "code",
   "execution_count": 6,
   "metadata": {},
   "outputs": [
    {
     "name": "stdout",
     "output_type": "stream",
     "text": [
      "torch.Size([3, 1, 57]) torch.Size([1, 128])\n",
      "Linear(in_features=185, out_features=128, bias=True)\n",
      "torch.Size([1, 18]) torch.Size([1, 128])\n",
      "Korean\n"
     ]
    }
   ],
   "source": [
    "# whole name\n",
    "input_tensor = line_to_tensor('Bao').to(device)\n",
    "hidden_tensor = rnn.init_hidden().to(device)\n",
    "print(input_tensor.size(), hidden_tensor.size())\n",
    "\n",
    "output, next_hidden = rnn(input_tensor[0], hidden_tensor)\n",
    "print(output.size(), next_hidden.size())\n",
    "print(category_from_output(output))"
   ]
  },
  {
   "cell_type": "code",
   "execution_count": 16,
   "metadata": {},
   "outputs": [
    {
     "name": "stdout",
     "output_type": "stream",
     "text": [
      "Parameter containing:\n",
      "tensor([ 0.0206, -0.0569, -0.0004, -0.0428,  0.0673,  0.0166,  0.0206, -0.0188,\n",
      "        -0.0711,  0.0330, -0.0166,  0.0043, -0.0265, -0.0145, -0.0458, -0.0276,\n",
      "        -0.0615,  0.0103, -0.0633,  0.0675, -0.0313, -0.0357,  0.0506,  0.0381,\n",
      "        -0.0653, -0.0262,  0.0638, -0.0339, -0.0451,  0.0164,  0.0045, -0.0724,\n",
      "         0.0477, -0.0386, -0.0055,  0.0371,  0.0150, -0.0352,  0.0085, -0.0621,\n",
      "        -0.0108,  0.0541,  0.0693,  0.0708, -0.0587, -0.0046,  0.0355, -0.0642,\n",
      "         0.0369, -0.0265,  0.0570,  0.0387, -0.0662,  0.0145, -0.0129, -0.0040,\n",
      "        -0.0322,  0.0503, -0.0362, -0.0343,  0.0410, -0.0596,  0.0586, -0.0588,\n",
      "         0.0337,  0.0522,  0.0555,  0.0535, -0.0387,  0.0453, -0.0312, -0.0345,\n",
      "         0.0190,  0.0185,  0.0524,  0.0531,  0.0649, -0.0413, -0.0543, -0.0534,\n",
      "        -0.0015,  0.0046,  0.0327,  0.0605,  0.0251,  0.0335,  0.0030, -0.0284,\n",
      "         0.0542, -0.0120, -0.0025, -0.0324,  0.0099, -0.0220, -0.0031,  0.0681,\n",
      "        -0.0641, -0.0311,  0.0100, -0.0609, -0.0095,  0.0544,  0.0058,  0.0283,\n",
      "        -0.0718,  0.0496, -0.0241, -0.0080, -0.0480,  0.0290, -0.0046,  0.0060,\n",
      "         0.0331,  0.0489,  0.0236,  0.0468, -0.0434, -0.0277,  0.0385,  0.0477,\n",
      "        -0.0159,  0.0664,  0.0709,  0.0665, -0.0089, -0.0453, -0.0165, -0.0180],\n",
      "       device='cuda:0', requires_grad=True)\n",
      "Parameter containing:\n",
      "tensor([ 0.0206, -0.0569, -0.0004, -0.0428,  0.0673,  0.0166,  0.0206, -0.0188,\n",
      "        -0.0711,  0.0330, -0.0166,  0.0043, -0.0265, -0.0145, -0.0458, -0.0276,\n",
      "        -0.0615,  0.0103, -0.0633,  0.0675, -0.0313, -0.0357,  0.0506,  0.0381,\n",
      "        -0.0653, -0.0262,  0.0638, -0.0339, -0.0451,  0.0164,  0.0045, -0.0724,\n",
      "         0.0477, -0.0386, -0.0055,  0.0371,  0.0150, -0.0352,  0.0085, -0.0621,\n",
      "        -0.0108,  0.0541,  0.0693,  0.0708, -0.0587, -0.0046,  0.0355, -0.0642,\n",
      "         0.0369, -0.0265,  0.0570,  0.0387, -0.0662,  0.0145, -0.0129, -0.0040,\n",
      "        -0.0322,  0.0503, -0.0362, -0.0343,  0.0410, -0.0596,  0.0586, -0.0588,\n",
      "         0.0337,  0.0522,  0.0555,  0.0535, -0.0387,  0.0453, -0.0312, -0.0345,\n",
      "         0.0190,  0.0185,  0.0524,  0.0531,  0.0649, -0.0413, -0.0543, -0.0534,\n",
      "        -0.0015,  0.0046,  0.0327,  0.0605,  0.0251,  0.0335,  0.0030, -0.0284,\n",
      "         0.0542, -0.0120, -0.0025, -0.0324,  0.0099, -0.0220, -0.0031,  0.0681,\n",
      "        -0.0641, -0.0311,  0.0100, -0.0609, -0.0095,  0.0544,  0.0058,  0.0283,\n",
      "        -0.0718,  0.0496, -0.0241, -0.0080, -0.0480,  0.0290, -0.0046,  0.0060,\n",
      "         0.0331,  0.0489,  0.0236,  0.0468, -0.0434, -0.0277,  0.0385,  0.0477,\n",
      "        -0.0159,  0.0664,  0.0709,  0.0665, -0.0089, -0.0453, -0.0165, -0.0180],\n",
      "       device='cuda:0', requires_grad=True)\n",
      "Parameter containing:\n",
      "tensor([ 0.0206, -0.0569, -0.0004, -0.0428,  0.0673,  0.0166,  0.0206, -0.0188,\n",
      "        -0.0711,  0.0330, -0.0166,  0.0043, -0.0265, -0.0145, -0.0458, -0.0276,\n",
      "        -0.0615,  0.0103, -0.0633,  0.0675, -0.0313, -0.0357,  0.0506,  0.0381,\n",
      "        -0.0653, -0.0262,  0.0638, -0.0339, -0.0451,  0.0164,  0.0045, -0.0724,\n",
      "         0.0477, -0.0386, -0.0055,  0.0371,  0.0150, -0.0352,  0.0085, -0.0621,\n",
      "        -0.0108,  0.0541,  0.0693,  0.0708, -0.0587, -0.0046,  0.0355, -0.0642,\n",
      "         0.0369, -0.0265,  0.0570,  0.0387, -0.0662,  0.0145, -0.0129, -0.0040,\n",
      "        -0.0322,  0.0503, -0.0362, -0.0343,  0.0410, -0.0596,  0.0586, -0.0588,\n",
      "         0.0337,  0.0522,  0.0555,  0.0535, -0.0387,  0.0453, -0.0312, -0.0345,\n",
      "         0.0190,  0.0185,  0.0524,  0.0531,  0.0649, -0.0413, -0.0543, -0.0534,\n",
      "        -0.0015,  0.0046,  0.0327,  0.0605,  0.0251,  0.0335,  0.0030, -0.0284,\n",
      "         0.0542, -0.0120, -0.0025, -0.0324,  0.0099, -0.0220, -0.0031,  0.0681,\n",
      "        -0.0641, -0.0311,  0.0100, -0.0609, -0.0095,  0.0544,  0.0058,  0.0283,\n",
      "        -0.0718,  0.0496, -0.0241, -0.0080, -0.0480,  0.0290, -0.0046,  0.0060,\n",
      "         0.0331,  0.0489,  0.0236,  0.0468, -0.0434, -0.0277,  0.0385,  0.0477,\n",
      "        -0.0159,  0.0664,  0.0709,  0.0665, -0.0089, -0.0453, -0.0165, -0.0180],\n",
      "       device='cuda:0', requires_grad=True)\n",
      "Parameter containing:\n",
      "tensor([ 0.0206, -0.0569, -0.0004, -0.0428,  0.0673,  0.0166,  0.0206, -0.0188,\n",
      "        -0.0711,  0.0330, -0.0166,  0.0043, -0.0265, -0.0145, -0.0458, -0.0276,\n",
      "        -0.0615,  0.0103, -0.0633,  0.0675, -0.0313, -0.0357,  0.0506,  0.0381,\n",
      "        -0.0653, -0.0262,  0.0638, -0.0339, -0.0451,  0.0164,  0.0045, -0.0724,\n",
      "         0.0477, -0.0386, -0.0055,  0.0371,  0.0150, -0.0352,  0.0085, -0.0621,\n",
      "        -0.0108,  0.0541,  0.0693,  0.0708, -0.0587, -0.0046,  0.0355, -0.0642,\n",
      "         0.0369, -0.0265,  0.0570,  0.0387, -0.0662,  0.0145, -0.0129, -0.0040,\n",
      "        -0.0322,  0.0503, -0.0362, -0.0343,  0.0410, -0.0596,  0.0586, -0.0588,\n",
      "         0.0337,  0.0522,  0.0555,  0.0535, -0.0387,  0.0453, -0.0312, -0.0345,\n",
      "         0.0190,  0.0185,  0.0524,  0.0531,  0.0649, -0.0413, -0.0543, -0.0534,\n",
      "        -0.0015,  0.0046,  0.0327,  0.0605,  0.0251,  0.0335,  0.0030, -0.0284,\n",
      "         0.0542, -0.0120, -0.0025, -0.0324,  0.0099, -0.0220, -0.0031,  0.0681,\n",
      "        -0.0641, -0.0311,  0.0100, -0.0609, -0.0095,  0.0544,  0.0058,  0.0283,\n",
      "        -0.0718,  0.0496, -0.0241, -0.0080, -0.0480,  0.0290, -0.0046,  0.0060,\n",
      "         0.0331,  0.0489,  0.0236,  0.0468, -0.0434, -0.0277,  0.0385,  0.0477,\n",
      "        -0.0159,  0.0664,  0.0709,  0.0665, -0.0089, -0.0453, -0.0165, -0.0180],\n",
      "       device='cuda:0', requires_grad=True)\n"
     ]
    }
   ],
   "source": [
    "# Train\n",
    "criterion = nn.NLLLoss()\n",
    "optimizer = torch.optim.SGD(rnn.parameters(), lr=learning_rate)\n",
    "\n",
    "def train(line_tensor, category_tensor):\n",
    "\n",
    "    hidden = rnn.init_hidden()\n",
    "    \n",
    "    for i in range(line_tensor.size()[0]):\n",
    "        input_tensor_i = line_tensor[i].to(device)\n",
    "        hidden = hidden.to(device)\n",
    "        output, hidden = rnn(input_tensor_i, hidden) # feed one character at once\n",
    "        \n",
    "    loss = criterion(output, category_tensor)\n",
    "    \n",
    "    optimizer.zero_grad()\n",
    "    loss.backward()\n",
    "    optimizer.step()\n",
    "    \n",
    "    return output, loss.item()\n",
    "\n",
    "current_loss = 0\n",
    "all_losses = []\n",
    "plot_steps, print_steps = 1000, 5000\n",
    "n_iters = 100000\n",
    "\n",
    "for i in range(n_iters):\n",
    "    category, line, category_tensor, line_tensor = random_training_example(category_lines, all_categories)\n",
    "    category_tensor = category_tensor.to(device)\n",
    "    \n",
    "    output, loss = train(line_tensor, category_tensor)\n",
    "    current_loss += loss\n",
    "\n",
    "    if (i+1) % plot_steps == 0:\n",
    "        all_losses.append(current_loss/plot_steps)\n",
    "        current_loss = 0\n",
    "    if (i+1) % print_steps == 0:\n",
    "        guess = category_from_output(output)\n",
    "        corret = \"CORRECT\" if guess == category else f\"WRONG ({category})\"\n",
    "        print(f\"{i+1} {(i+1)/n_iters*100} {loss:.4f} {line} / {guess} {corret}\")\n"
   ]
  },
  {
   "cell_type": "code",
   "execution_count": 43,
   "metadata": {},
   "outputs": [
    {
     "data": {
      "image/png": "[encoded data removed]",
      "text/plain": [
       "<Figure size 432x288 with 1 Axes>"
      ]
     },
     "metadata": {
      "needs_background": "light"
     },
     "output_type": "display_data"
    }
   ],
   "source": [
    "plt.figure()\n",
    "plt.plot(all_losses)\n",
    "plt.show()"
   ]
  },
  {
   "cell_type": "code",
   "execution_count": 44,
   "metadata": {},
   "outputs": [
    {
     "name": "stdout",
     "output_type": "stream",
     "text": [
      "\n",
      "> wan\n",
      "Chinese\n",
      "\n",
      "> WAN\n",
      "Chinese\n",
      "\n",
      "> BAO\n",
      "Vietnamese\n",
      "\n",
      "> GUI\n",
      "Chinese\n",
      "\n",
      "> HONG\n",
      "Korean\n",
      "\n",
      "> HELLO\n",
      "Vietnamese\n",
      "\n",
      "> TEST\n",
      "Korean\n",
      "\n",
      "> WHY\n",
      "Korean\n",
      "\n",
      "> QUIT\n",
      "Korean\n"
     ]
    }
   ],
   "source": [
    "# Evaluation\n",
    "\n",
    "def predict(input_line):\n",
    "    print(f\"\\n> {input_line}\")\n",
    "    with torch.no_grad():\n",
    "        line_tensor = line_to_tensor(input_line)\n",
    "        \n",
    "        hidden = rnn.init_hidden()\n",
    "    \n",
    "        for i in range(line_tensor.size()[0]):\n",
    "            line_tensor_i = line_tensor[i].to(device)\n",
    "            hidden = hidden.to(device)\n",
    "            output, hidden = rnn(line_tensor_i, hidden)\n",
    "        \n",
    "        guess = category_from_output(output)\n",
    "        print(guess)\n",
    "\n",
    "\n",
    "while True:\n",
    "    sentence = input(\"Input:\")\n",
    "    if sentence == \"quit\":\n",
    "        break\n",
    "    \n",
    "    predict(sentence)"
   ]
  },
  {
   "cell_type": "code",
   "execution_count": 9,
   "metadata": {},
   "outputs": [],
   "source": [
    "torch.save(model.state_dict(), \"outputs/mnist_ffn.pth\")"
   ]
  }
 ],
 "metadata": {
  "language_info": {
   "name": "python"
  }
 },
 "nbformat": 4,
 "nbformat_minor": 2
}
