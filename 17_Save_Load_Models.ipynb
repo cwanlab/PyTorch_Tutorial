{
 "cells": [
  {
   "cell_type": "code",
   "execution_count": 18,
   "metadata": {},
   "outputs": [],
   "source": [
    "import torch\n",
    "import torch.nn as nn"
   ]
  },
  {
   "cell_type": "code",
   "execution_count": 19,
   "metadata": {},
   "outputs": [],
   "source": [
    "###Lazy way###\n",
    "# The complete model is saved.\n",
    "# The serialized data is bound to the specific classes, and the exact directory structure that is used when the model is saved.\n",
    "##############\n",
    "# torch.save(arg, PATH)\n",
    "# torch.load(PATH)\n",
    "# model.eval()\n",
    "\n",
    "###recomended###\n",
    "# Save the parameters\n",
    "################\n",
    "\n",
    "# torch.save(model.state_dict(), PATH)\n",
    "\n",
    "# model must be created again with parameters\n",
    "# model = Model(*args, **kwargs)\n",
    "# model.load_state_dict(torch.load(PATH))\n",
    "# model.eval()"
   ]
  },
  {
   "cell_type": "code",
   "execution_count": 34,
   "metadata": {},
   "outputs": [
    {
     "name": "stdout",
     "output_type": "stream",
     "text": [
      "OrderedDict([('linear.weight', tensor([[0.0277, 0.0098, 0.3169, 0.0915, 0.3808, 0.2297]], device='cuda:0')), ('linear.bias', tensor([-0.1544], device='cuda:0'))])\n",
      "{'state': {}, 'param_groups': [{'lr': 0.01, 'momentum': 0, 'dampening': 0, 'weight_decay': 0, 'nesterov': False, 'params': [0, 1]}]}\n"
     ]
    }
   ],
   "source": [
    "class Model(nn.Module):\n",
    "    def __init__(self, n_input_features):\n",
    "        super(Model, self).__init__()\n",
    "        self.linear = nn.Linear(n_input_features, 1)\n",
    "    def forward(self, x):\n",
    "        y_pred = torch.sigmoid(self.linear(x))\n",
    "        return y_pred\n",
    "\n",
    "device = torch.device(\"cuda\")\n",
    "\n",
    "model = Model(n_input_features = 6)\n",
    "model.to(device)\n",
    "\n",
    "learning_rate = 0.01\n",
    "optimizer = torch.optim.SGD(model.parameters(), lr=learning_rate)\n",
    "\n",
    "print(model.state_dict())\n",
    "print(optimizer.state_dict())\n"
   ]
  },
  {
   "cell_type": "markdown",
   "metadata": {},
   "source": [
    "## Method 1"
   ]
  },
  {
   "cell_type": "code",
   "execution_count": 23,
   "metadata": {},
   "outputs": [],
   "source": [
    "FILE = \"outputs/model.pth\"\n",
    "torch.save(model, FILE)"
   ]
  },
  {
   "cell_type": "code",
   "execution_count": 24,
   "metadata": {},
   "outputs": [
    {
     "name": "stdout",
     "output_type": "stream",
     "text": [
      "Parameter containing:\n",
      "tensor([[-0.2766, -0.2232,  0.2242, -0.3160, -0.1199,  0.1274]],\n",
      "       requires_grad=True)\n",
      "Parameter containing:\n",
      "tensor([0.1279], requires_grad=True)\n"
     ]
    }
   ],
   "source": [
    "model = torch.load(FILE)\n",
    "model.eval()\n",
    "for param in model.parameters():\n",
    "    print(param)"
   ]
  },
  {
   "cell_type": "markdown",
   "metadata": {},
   "source": [
    "## Method 2"
   ]
  },
  {
   "cell_type": "code",
   "execution_count": 35,
   "metadata": {},
   "outputs": [],
   "source": [
    "FILE = \"outputs/model.pth\"\n",
    "torch.save(model.state_dict(), FILE)"
   ]
  },
  {
   "cell_type": "code",
   "execution_count": 26,
   "metadata": {},
   "outputs": [
    {
     "data": {
      "text/plain": [
       "Model(\n",
       "  (linear): Linear(in_features=6, out_features=1, bias=True)\n",
       ")"
      ]
     },
     "execution_count": 26,
     "metadata": {},
     "output_type": "execute_result"
    }
   ],
   "source": [
    "loaded_model = Model(n_input_features=6)\n",
    "loaded_model.load_state_dict(torch.load(FILE))\n",
    "loaded_model.eval()"
   ]
  },
  {
   "cell_type": "code",
   "execution_count": 27,
   "metadata": {},
   "outputs": [
    {
     "name": "stdout",
     "output_type": "stream",
     "text": [
      "Parameter containing:\n",
      "tensor([[-0.2766, -0.2232,  0.2242, -0.3160, -0.1199,  0.1274]],\n",
      "       requires_grad=True)\n",
      "Parameter containing:\n",
      "tensor([0.1279], requires_grad=True)\n",
      "\n",
      "Parameter containing:\n",
      "tensor([[-0.2766, -0.2232,  0.2242, -0.3160, -0.1199,  0.1274]],\n",
      "       requires_grad=True)\n",
      "Parameter containing:\n",
      "tensor([0.1279], requires_grad=True)\n"
     ]
    }
   ],
   "source": [
    "for param in model.parameters():\n",
    "    print(param)\n",
    "print()\n",
    "for param in loaded_model.parameters():\n",
    "    print(param)"
   ]
  },
  {
   "cell_type": "markdown",
   "metadata": {},
   "source": [
    "## Save during training"
   ]
  },
  {
   "cell_type": "code",
   "execution_count": 36,
   "metadata": {},
   "outputs": [],
   "source": [
    "checkpoint = {\n",
    "    \"epoch\": 90,\n",
    "    \"model_state\": model.state_dict(),\n",
    "    \"optim_state\": optimizer.state_dict()\n",
    "}\n",
    "torch.save(checkpoint, \"outputs/checkpoint.pth\")"
   ]
  },
  {
   "cell_type": "code",
   "execution_count": 39,
   "metadata": {},
   "outputs": [
    {
     "name": "stdout",
     "output_type": "stream",
     "text": [
      "{'state': {}, 'param_groups': [{'lr': 0.01, 'momentum': 0, 'dampening': 0, 'weight_decay': 0, 'nesterov': False, 'params': [0, 1]}]}\n",
      "OrderedDict([('linear.weight', tensor([[0.0277, 0.0098, 0.3169, 0.0915, 0.3808, 0.2297]], device='cuda:0')), ('linear.bias', tensor([-0.1544], device='cuda:0'))])\n"
     ]
    }
   ],
   "source": [
    "loaded_checkpoint = torch.load(\"outputs/checkpoint.pth\")\n",
    "epoch = loaded_checkpoint[\"epoch\"]\n",
    "\n",
    "model = Model(n_input_features=6)\n",
    "model.load_state_dict(loaded_checkpoint[\"model_state\"])\n",
    "model.to(device)\n",
    "\n",
    "optimizer = torch.optim.SGD(model.parameters(), lr=0)\n",
    "optimizer.load_state_dict(loaded_checkpoint[\"optim_state\"])\n",
    "\n",
    "print(optimizer.state_dict())\n",
    "print(model.state_dict())"
   ]
  },
  {
   "cell_type": "code",
   "execution_count": 41,
   "metadata": {},
   "outputs": [
    {
     "name": "stdout",
     "output_type": "stream",
     "text": [
      "OrderedDict([('linear.weight', tensor([[0.0277, 0.0098, 0.3169, 0.0915, 0.3808, 0.2297]], device='cuda:0')), ('linear.bias', tensor([-0.1544], device='cuda:0'))])\n"
     ]
    }
   ],
   "source": [
    "# Save on CPU, Load on GPU\n",
    "\n",
    "device = torch.device(\"cuda\")\n",
    "model = Model(n_input_features=6)\n",
    "model.load_state_dict(torch.load(FILE, map_location=\"cuda:0\"))\n",
    "model.to(device)\n",
    "print(model.state_dict())"
   ]
  }
 ],
 "metadata": {
  "language_info": {
   "name": "python"
  }
 },
 "nbformat": 4,
 "nbformat_minor": 2
}
