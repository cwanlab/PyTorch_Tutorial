{
 "cells": [
  {
   "cell_type": "code",
   "execution_count": 3,
   "metadata": {},
   "outputs": [],
   "source": [
    "# 1) Design model (input size, output size, forward pass)\n",
    "# 2) Construct loss and optimizer\n",
    "# 3) Training loop\n",
    "#    - forward pass: compute prediction and loss\n",
    "#    - backward pass: gradients\n",
    "#    - update weights"
   ]
  },
  {
   "cell_type": "code",
   "execution_count": 1,
   "metadata": {},
   "outputs": [],
   "source": [
    "import torch\n",
    "import torch.nn as nn\n",
    "import numpy as np\n",
    "from sklearn import datasets\n",
    "import matplotlib.pyplot as plt\n",
    "from sklearn.preprocessing import StandardScaler\n",
    "from sklearn.model_selection import train_test_split"
   ]
  },
  {
   "cell_type": "code",
   "execution_count": 7,
   "metadata": {},
   "outputs": [
    {
     "name": "stdout",
     "output_type": "stream",
     "text": [
      "569 30\n",
      "[0 1]\n",
      "torch.Size([455, 30]) torch.Size([455])\n",
      "torch.Size([114, 30]) torch.Size([114])\n",
      "torch.Size([455, 30]) torch.Size([455, 1])\n",
      "torch.Size([114, 30]) torch.Size([114, 1])\n"
     ]
    }
   ],
   "source": [
    "# 0) Prepare data\n",
    "bc = datasets.load_breast_cancer()\n",
    "X, y = bc.data, bc.target\n",
    "\n",
    "n_samples, n_features = X.shape\n",
    "print(n_samples, n_features)\n",
    "print(np.unique(y))\n",
    "\n",
    "X_train, X_test, y_train, y_test = train_test_split(X, y, test_size=0.2, random_state=1234)\n",
    "sc = StandardScaler()\n",
    "X_train = sc.fit_transform(X_train)\n",
    "X_test = sc.transform(X_test)\n",
    "\n",
    "X_train = torch.from_numpy(X_train.astype(np.float32))\n",
    "X_test = torch.from_numpy(X_test.astype(np.float32))\n",
    "y_train = torch.from_numpy(y_train.astype(np.float32))\n",
    "y_test = torch.from_numpy(y_test.astype(np.float32))\n",
    "\n",
    "print(X_train.shape, y_train.shape)\n",
    "print(X_test.shape, y_test.shape)\n",
    "y_train = y_train.view(-1, 1)\n",
    "y_test = y_test.view(-1, 1)\n",
    "print(X_train.shape, y_train.shape)\n",
    "print(X_test.shape, y_test.shape)\n"
   ]
  },
  {
   "cell_type": "code",
   "execution_count": 13,
   "metadata": {},
   "outputs": [],
   "source": [
    "# model: y = w0x0 + w1x1 + b, sigmoid at the end\n",
    "input_size = n_features\n",
    "output_size = 1 # binary\n",
    "\n",
    "class LinearRegression(nn.Module):\n",
    "    def __init__(self, input_dim, output_dim):\n",
    "        super(LinearRegression, self).__init__()\n",
    "        # define layers\n",
    "        self.lin = nn.Linear(input_dim, output_dim)\n",
    "\n",
    "    def forward(self, x):\n",
    "        return torch.sigmoid(self.lin(x))\n",
    "\n",
    "model = LinearRegression(input_size, output_size)\n",
    "\n",
    "#loss criterion and optimizer\n",
    "learning_rate = 0.01\n",
    "criterion = nn.BCELoss()\n",
    "optimizer = torch.optim.SGD(model.parameters(), lr=learning_rate)\n"
   ]
  },
  {
   "cell_type": "code",
   "execution_count": 16,
   "metadata": {},
   "outputs": [
    {
     "name": "stdout",
     "output_type": "stream",
     "text": [
      "epoch 10: loss =  0.17208649\n",
      "epoch 20: loss =  0.16849808\n",
      "epoch 30: loss =  0.16514289\n",
      "epoch 40: loss =  0.16199709\n",
      "epoch 50: loss =  0.15904003\n",
      "epoch 60: loss =  0.15625384\n",
      "epoch 70: loss =  0.15362300\n",
      "epoch 80: loss =  0.15113385\n",
      "epoch 90: loss =  0.14877442\n",
      "epoch 100: loss =  0.14653404\n",
      "epoch 110: loss =  0.14440328\n",
      "epoch 120: loss =  0.14237373\n",
      "epoch 130: loss =  0.14043783\n",
      "epoch 140: loss =  0.13858879\n",
      "epoch 150: loss =  0.13682044\n",
      "epoch 160: loss =  0.13512729\n",
      "epoch 170: loss =  0.13350432\n",
      "epoch 180: loss =  0.13194691\n",
      "epoch 190: loss =  0.13045090\n",
      "epoch 200: loss =  0.12901251\n",
      "acc = 0.9298\n"
     ]
    }
   ],
   "source": [
    "# Training loop\n",
    "n_iters = 200\n",
    "\n",
    "for epoch in range(n_iters):\n",
    "    # forward pass and loss\n",
    "    y_pred = model(X_train)\n",
    "    loss = criterion(y_pred, y_train)\n",
    "\n",
    "    # backward pass\n",
    "    loss.backward()\n",
    "\n",
    "    # update weights\n",
    "    optimizer.step()\n",
    "    \n",
    "    # zero gradients\n",
    "    optimizer.zero_grad()\n",
    "\n",
    "    if (epoch+1) % 10 == 0:\n",
    "        print(f'epoch {epoch+1}: loss = {loss: 0.8f}')\n",
    "\n",
    "# Evaluation\n",
    "with torch.no_grad():\n",
    "    y_eva = model(X_test)\n",
    "    y_eva_cls = y_eva.round()\n",
    "    acc = y_eva_cls.eq(y_test).sum() / float(y_test.shape[0])\n",
    "    print(f'acc = {acc:.4f}')"
   ]
  }
 ],
 "metadata": {
  "language_info": {
   "name": "python"
  }
 },
 "nbformat": 4,
 "nbformat_minor": 2
}
