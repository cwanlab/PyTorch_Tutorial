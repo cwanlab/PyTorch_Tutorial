{
 "cells": [
  {
   "cell_type": "code",
   "execution_count": 5,
   "metadata": {},
   "outputs": [],
   "source": [
    "import torch\n",
    "import torch.nn as nn"
   ]
  },
  {
   "cell_type": "code",
   "execution_count": 3,
   "metadata": {},
   "outputs": [],
   "source": [
    "# 1) Design model (input, output size, forward pass)\n",
    "# 2) Construct loss and optimizer\n",
    "# 3) Training loop\n",
    "#    - forward pass: compute prediction\n",
    "#    - backward pass: gradients\n",
    "#    - update weights"
   ]
  },
  {
   "cell_type": "code",
   "execution_count": 4,
   "metadata": {},
   "outputs": [],
   "source": [
    "#From manually to pytorch\n",
    "# Prediction: manually --> xxx --> pytorch model\n",
    "# Loss computation: manually--> pytorch loss\n",
    "# Gradient computation: manually--> Autograd\n",
    "# Parameter updates: manually --> pytorch optimizer"
   ]
  },
  {
   "cell_type": "code",
   "execution_count": 49,
   "metadata": {},
   "outputs": [
    {
     "name": "stdout",
     "output_type": "stream",
     "text": [
      "torch.Size([4, 1]) 4 1\n",
      "torch.Size([4, 1])\n",
      "tensor([[1.],\n",
      "        [2.],\n",
      "        [3.],\n",
      "        [4.]])\n",
      "tensor([[2.],\n",
      "        [4.],\n",
      "        [6.],\n",
      "        [8.]])\n"
     ]
    }
   ],
   "source": [
    "# f = 2 * x\n",
    "X = torch.tensor([1, 2, 3, 4], dtype=torch.float32)\n",
    "X = X.view(4,-1)\n",
    "y = torch.tensor([2, 4, 6, 8], dtype=torch.float32)\n",
    "y = y.view(4,-1)\n",
    "\n",
    "n_samples, n_features = X.shape\n",
    "\n",
    "print(X.size(), n_samples, n_features)\n",
    "print(y.size())\n",
    "print(X)\n",
    "print(y)"
   ]
  },
  {
   "cell_type": "code",
   "execution_count": 89,
   "metadata": {},
   "outputs": [],
   "source": [
    "# model\n",
    "input_size = n_features\n",
    "output_size = 1\n",
    "\n",
    "# model = nn.Linear(input_size, output_size)\n",
    "\n",
    "\n",
    "class LinearRegression(nn.Module):\n",
    "    def __init__(self, input_dim, output_dim):\n",
    "        super(LinearRegression, self).__init__()\n",
    "        # define layers\n",
    "        self.lin = nn.Linear(input_dim, output_dim)\n",
    "\n",
    "    def forward(self, x):\n",
    "        return self.lin(x)\n",
    "\n",
    "model = LinearRegression(input_size, output_size)\n"
   ]
  },
  {
   "cell_type": "code",
   "execution_count": 90,
   "metadata": {},
   "outputs": [
    {
     "name": "stdout",
     "output_type": "stream",
     "text": [
      "Prediciton before training: f(5) = 3.844\n",
      "epoch1: W =  1.009, loss =  12.00649357\n",
      "epoch11: W =  1.804, loss =  0.31340837\n",
      "epoch21: W =  1.933, loss =  0.01071884\n",
      "epoch31: W =  1.954, loss =  0.00273567\n",
      "epoch41: W =  1.959, loss =  0.00238604\n",
      "epoch51: W =  1.961, loss =  0.00224223\n",
      "epoch61: W =  1.962, loss =  0.00211160\n",
      "epoch71: W =  1.963, loss =  0.00198869\n",
      "epoch81: W =  1.964, loss =  0.00187294\n",
      "epoch91: W =  1.965, loss =  0.00176392\n",
      "epoch101: W =  1.966, loss =  0.00166125\n",
      "epoch111: W =  1.967, loss =  0.00156456\n",
      "epoch121: W =  1.968, loss =  0.00147349\n",
      "epoch131: W =  1.969, loss =  0.00138773\n",
      "epoch141: W =  1.970, loss =  0.00130696\n",
      "epoch151: W =  1.971, loss =  0.00123088\n",
      "epoch161: W =  1.972, loss =  0.00115925\n",
      "epoch171: W =  1.973, loss =  0.00109177\n",
      "epoch181: W =  1.973, loss =  0.00102822\n",
      "epoch191: W =  1.974, loss =  0.00096838\n",
      "Prediciton after training: f(5) = 9.948\n"
     ]
    }
   ],
   "source": [
    "x_test = torch.tensor([5], dtype=torch.float32)\n",
    "print(f'Prediciton before training: f(5) = {model(x_test).item():.3f}')\n",
    "\n",
    "# Training\n",
    "learning_rate = 0.01\n",
    "n_iters = 200\n",
    "\n",
    "loss = nn.MSELoss()\n",
    "optimizer = torch.optim.SGD(model.parameters(), lr=learning_rate)\n",
    "\n",
    "for epoch in range(n_iters):\n",
    "    y_pred = model(X)\n",
    "    #print(y_pred)\n",
    "\n",
    "    l = loss(y, y_pred)\n",
    "\n",
    "    # dl/dw\n",
    "    l.backward()\n",
    "    # update weights\n",
    "    optimizer.step()\n",
    "    # zero gradients\n",
    "    optimizer.zero_grad()\n",
    "\n",
    "    if epoch % 10 == 0:\n",
    "        [W, b] = model.parameters()\n",
    "        print(f'epoch{epoch+1}: W = {W[0].item(): 0.3f}, loss = {l: 0.8f}')\n",
    "\n",
    "print(f'Prediciton after training: f(5) = {model(x_test).item():.3f}')"
   ]
  }
 ],
 "metadata": {
  "language_info": {
   "name": "python"
  }
 },
 "nbformat": 4,
 "nbformat_minor": 2
}
